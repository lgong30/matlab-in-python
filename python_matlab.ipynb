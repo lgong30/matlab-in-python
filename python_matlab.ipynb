{
 "cells": [
  {
   "cell_type": "markdown",
   "metadata": {},
   "source": [
    "# Use MATLAB in Python\n",
    "\n",
    "## Install\n",
    "\n",
    "Go to the root path of your MATLAB, then go to directory `extern/engines/python` (if you cannot find such directory, it may indicate that the version of your MATLAB is too low to support such a feature. You can check it by going to the offical website of MATLAB), open a terminal (or command line window) in the directory, and install the matlab engine for python by \n",
    "\n",
    "```shell\n",
    "python setup.py install\n",
    "```\n",
    "\n",
    "Note that, to install successfully, you might need run as Administrator (on Windows) or root (on Mac or Linux). \n",
    "\n",
    "## Usage\n",
    "\n",
    "Here I will use an example of SVD to show how to use it.\n",
    "\n",
    "First, open a terminal, import matlab engine and start it"
   ]
  },
  {
   "cell_type": "code",
   "execution_count": 1,
   "metadata": {
    "collapsed": false,
    "scrolled": true
   },
   "outputs": [
    {
     "name": "stdout",
     "output_type": "stream",
     "text": [
      "<matlab.engine.matlabengine.MatlabEngine object at 0x0000000003E97630>\n"
     ]
    }
   ],
   "source": [
    "import matlab.engine\n",
    "eng = matlab.engine.start_matlab()\n",
    "print (str(eng))"
   ]
  },
  {
   "cell_type": "markdown",
   "metadata": {},
   "source": [
    "If you get error while execute the above two python statements, it means your matlab engine was not installed successfully. Then, you may have to reinstall it or contact MathWorks Technical Support for assistance.\n",
    "\n",
    "Now, let us create a matlab matrix from python."
   ]
  },
  {
   "cell_type": "code",
   "execution_count": 2,
   "metadata": {
    "collapsed": false
   },
   "outputs": [
    {
     "name": "stdout",
     "output_type": "stream",
     "text": [
      "[[1.0,2.0,3.0],[5.0,7.0,9.0]]\n"
     ]
    }
   ],
   "source": [
    "A = matlab.double([[1,2,3],[5,7,9]])\n",
    "print (A)"
   ]
  },
  {
   "cell_type": "markdown",
   "metadata": {},
   "source": [
    "So easy!! Now let run SVD on the matrix."
   ]
  },
  {
   "cell_type": "code",
   "execution_count": 3,
   "metadata": {
    "collapsed": false
   },
   "outputs": [
    {
     "name": "stdout",
     "output_type": "stream",
     "text": [
      "[[12.9876813539],[0.565803011953]]\n"
     ]
    }
   ],
   "source": [
    "s = eng.svd(A)\n",
    "print(s)"
   ]
  },
  {
   "cell_type": "markdown",
   "metadata": {},
   "source": []
  }
 ],
 "metadata": {
  "kernelspec": {
   "display_name": "Python 2",
   "language": "python",
   "name": "python2"
  },
  "language_info": {
   "codemirror_mode": {
    "name": "ipython",
    "version": 2
   },
   "file_extension": ".py",
   "mimetype": "text/x-python",
   "name": "python",
   "nbconvert_exporter": "python",
   "pygments_lexer": "ipython2",
   "version": "2.7.3"
  }
 },
 "nbformat": 4,
 "nbformat_minor": 0
}
