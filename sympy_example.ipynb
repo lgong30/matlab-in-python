{
 "cells": [
  {
   "cell_type": "markdown",
   "metadata": {},
   "source": [
    "# Python Symbolic Math Package ---- sympy\n",
    "\n",
    "During your life of learning or research, you might encounter the cases where you need to calculate the derivative of complicated functions or even a high-order derivative of those functions. Calculating them by hand would be time-consuming and error-prone. Therefore, symbolic computation tools (e.g., Maple, Matlab Symbolic Toolbox, etc) might be very helpful. However, Those tools are usually not free.In this post, I will introduce you a free one ---- sympy.\n",
    "\n",
    "## Install\n",
    "\n",
    "1. Get the source code: `git clone git://github.com/sympy/sympy.git`\n",
    "2. Install from source: `python setup.py install`\n",
    "\n",
    "Note, you might get a error due to dependency, you just need to install the dependent package(s) first, and then run the above install command again.\n",
    "\n",
    "## Usage\n",
    "\n",
    "In the following I will use an example from queueing theory. \n",
    "\n",
    "From Pollaczek-Khinchin formula, we have the geneating function of the queue length distribution of M/D/1 queue (assuming the service rate $\\mu = 1$) is \n",
    "\n",
    "$$P_{Q}(s) = \\frac{(1 - \\lambda)(s-1)e^{\\lambda(s-1)}}{s - e^{\\lambda(s-1)}}$$\n",
    "\n",
    "where $\\lambda \\in (0,1)$ is the arrival rate.\n",
    "\n",
    "From the generating function, we can ealiy calculate the expectation and variance, however, we need the first-order derivative for expectation and the second-order for variance. In the following, I will show how to calculate them by using sympy."
   ]
  },
  {
   "cell_type": "code",
   "execution_count": 1,
   "metadata": {
    "collapsed": false
   },
   "outputs": [],
   "source": [
    "from sympy import symbols, exp, diff, limit, latex"
   ]
  },
  {
   "cell_type": "markdown",
   "metadata": {},
   "source": [
    "First of all, importing required packages. Here, `symbols` is for creating symbols, `exp` is for exponential function, `diff` is for derivative, `limit` is for limit, and `latex` is to convert symbolic expression into latex code."
   ]
  },
  {
   "cell_type": "code",
   "execution_count": 2,
   "metadata": {
    "collapsed": false
   },
   "outputs": [
    {
     "name": "stdout",
     "output_type": "stream",
     "text": [
      "\\frac{\\left(- lam + 1\\right) \\left(s - 1\\right) e^{lam \\left(s - 1\\right)}}{s - e^{lam \\left(s - 1\\right)}}\n"
     ]
    }
   ],
   "source": [
    "# create symbols\n",
    "lam, s = symbols('lam s')\n",
    "# express the generating function\n",
    "expr = ((1 - lam) * (s - 1) * exp(lam * (s - 1))) / (s - exp(lam * (s - 1)))\n",
    "print latex(expr)"
   ]
  },
  {
   "cell_type": "markdown",
   "metadata": {},
   "source": [
    "Now, we take the first-order derivative"
   ]
  },
  {
   "cell_type": "code",
   "execution_count": 3,
   "metadata": {
    "collapsed": false
   },
   "outputs": [
    {
     "name": "stdout",
     "output_type": "stream",
     "text": [
      "\\frac{lam \\left(- lam + 1\\right) \\left(s - 1\\right) e^{lam \\left(s - 1\\right)}}{s - e^{lam \\left(s - 1\\right)}} + \\frac{e^{lam \\left(s - 1\\right)}}{\\left(s - e^{lam \\left(s - 1\\right)}\\right)^{2}} \\left(- lam + 1\\right) \\left(s - 1\\right) \\left(lam e^{lam \\left(s - 1\\right)} - 1\\right) + \\frac{\\left(- lam + 1\\right) e^{lam \\left(s - 1\\right)}}{s - e^{lam \\left(s - 1\\right)}}\n"
     ]
    }
   ],
   "source": [
    "df1 = diff(expr, s)\n",
    "print latex(df1)"
   ]
  },
  {
   "cell_type": "markdown",
   "metadata": {},
   "source": [
    "We know the expectation $$E[Q] = P_{Q}'(1)$$ (note that since the derivative itself might not have difinition at 1, you need to take the limit)"
   ]
  },
  {
   "cell_type": "code",
   "execution_count": 4,
   "metadata": {
    "collapsed": false
   },
   "outputs": [
    {
     "name": "stdout",
     "output_type": "stream",
     "text": [
      "\\frac{lam^{2} - 2 lam}{2 lam - 2}\n"
     ]
    }
   ],
   "source": [
    "expectation = limit(df1, s, 1)\n",
    "print latex(expectation)"
   ]
  },
  {
   "cell_type": "markdown",
   "metadata": {},
   "source": [
    "Similarly, we can calculate the second-order derivative."
   ]
  }
 ],
 "metadata": {
  "kernelspec": {
   "display_name": "Python 2",
   "language": "python",
   "name": "python2"
  },
  "language_info": {
   "codemirror_mode": {
    "name": "ipython",
    "version": 2
   },
   "file_extension": ".py",
   "mimetype": "text/x-python",
   "name": "python",
   "nbconvert_exporter": "python",
   "pygments_lexer": "ipython2",
   "version": "2.7.12"
  }
 },
 "nbformat": 4,
 "nbformat_minor": 0
}
